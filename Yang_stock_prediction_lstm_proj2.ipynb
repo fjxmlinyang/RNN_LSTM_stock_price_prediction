{
  "nbformat": 4,
  "nbformat_minor": 0,
  "metadata": {
    "accelerator": "GPU",
    "colab": {
      "name": "Yang_stock_prediction_lstm_proj2.ipynb",
      "provenance": [],
      "collapsed_sections": [],
      "include_colab_link": true
    },
    "kernelspec": {
      "display_name": "Python 3",
      "name": "python3"
    }
  },
  "cells": [
    {
      "cell_type": "markdown",
      "metadata": {
        "id": "view-in-github",
        "colab_type": "text"
      },
      "source": [
        "<a href=\"https://colab.research.google.com/github/fjxmlinyang/RNN_LSTM_stock_price_prediction/blob/main/Yang_stock_prediction_lstm_proj2.ipynb\" target=\"_parent\"><img src=\"https://colab.research.google.com/assets/colab-badge.svg\" alt=\"Open In Colab\"/></a>"
      ]
    },
    {
      "cell_type": "markdown",
      "metadata": {
        "id": "vGbT1dgk2h0D"
      },
      "source": [
        "# **Stock Predictor RNN(LSTM)** \n",
        "\n",
        "\n"
      ]
    },
    {
      "cell_type": "markdown",
      "metadata": {
        "id": "vwPba0Jg2bSX"
      },
      "source": [
        "# Part 0: Pytorch LSTM Stock Predictor\n",
        "\n"
      ]
    },
    {
      "cell_type": "markdown",
      "metadata": {
        "id": "QLhbb9mPWUhs"
      },
      "source": [
        "In this porject, we perform a time series prediction for stock price.\n",
        "1. The data set is 5 years apple stock dataset.\n",
        "2. We employ a Recurrent Neural Network(RNN) regressor, specifically [Long Term Short Memory (LTSM)](https://en.wikipedia.org/wiki/Long_short-term_memory), which helps significantly avoid technical problems with optimziation of RNNs.\n",
        "3. We pridict the stock price in 7 days in advance.\n",
        "4. This is a Pytorch version of the original Keras LSTM Stock Predictor provided by [Super DataScience](https://www.superdatascience.com/deep-learning/), and also available elsewhere in this repo as a notebook."
      ]
    },
    {
      "cell_type": "markdown",
      "metadata": {
        "id": "boG82OJt2n4g"
      },
      "source": [
        "# Part 1: Data Exploration\n",
        "\n"
      ]
    },
    {
      "cell_type": "code",
      "metadata": {
        "colab": {
          "base_uri": "https://localhost:8080/"
        },
        "id": "6k-jrLoP20Fm",
        "outputId": "d970f855-ce47-494e-f145-0903e1f565fe"
      },
      "source": [
        "# download the data\n",
        "from google.colab import drive\n",
        "drive.mount('/content/drive')"
      ],
      "execution_count": null,
      "outputs": [
        {
          "output_type": "stream",
          "text": [
            "Mounted at /content/drive\n"
          ],
          "name": "stdout"
        }
      ]
    },
    {
      "cell_type": "code",
      "metadata": {
        "id": "PzuDS57Xa-Pg"
      },
      "source": [
        "import numpy as np\n",
        "import pandas as pd\n",
        "import seaborn as sns\n",
        "import matplotlib.pyplot as plt\n",
        "import math\n",
        "%matplotlib inline"
      ],
      "execution_count": null,
      "outputs": []
    },
    {
      "cell_type": "code",
      "metadata": {
        "id": "3-8wHDYS28-m"
      },
      "source": [
        "dataset = pd.read_csv(\"/content/drive/MyDrive/Colab Notebooks/DeepLearningRNNProject/all_stocks_5yr.csv\")\n"
      ],
      "execution_count": null,
      "outputs": []
    },
    {
      "cell_type": "code",
      "metadata": {
        "id": "lC_2yxKR2bSe",
        "colab": {
          "base_uri": "https://localhost:8080/",
          "height": 419
        },
        "outputId": "54161974-dec0-4231-87ed-742a6ae66858"
      },
      "source": [
        "dataset"
      ],
      "execution_count": null,
      "outputs": [
        {
          "output_type": "execute_result",
          "data": {
            "text/html": [
              "<div>\n",
              "<style scoped>\n",
              "    .dataframe tbody tr th:only-of-type {\n",
              "        vertical-align: middle;\n",
              "    }\n",
              "\n",
              "    .dataframe tbody tr th {\n",
              "        vertical-align: top;\n",
              "    }\n",
              "\n",
              "    .dataframe thead th {\n",
              "        text-align: right;\n",
              "    }\n",
              "</style>\n",
              "<table border=\"1\" class=\"dataframe\">\n",
              "  <thead>\n",
              "    <tr style=\"text-align: right;\">\n",
              "      <th></th>\n",
              "      <th>date</th>\n",
              "      <th>open</th>\n",
              "      <th>high</th>\n",
              "      <th>low</th>\n",
              "      <th>close</th>\n",
              "      <th>volume</th>\n",
              "      <th>Name</th>\n",
              "    </tr>\n",
              "  </thead>\n",
              "  <tbody>\n",
              "    <tr>\n",
              "      <th>0</th>\n",
              "      <td>2013-02-08</td>\n",
              "      <td>15.07</td>\n",
              "      <td>15.12</td>\n",
              "      <td>14.63</td>\n",
              "      <td>14.75</td>\n",
              "      <td>8407500</td>\n",
              "      <td>AAL</td>\n",
              "    </tr>\n",
              "    <tr>\n",
              "      <th>1</th>\n",
              "      <td>2013-02-11</td>\n",
              "      <td>14.89</td>\n",
              "      <td>15.01</td>\n",
              "      <td>14.26</td>\n",
              "      <td>14.46</td>\n",
              "      <td>8882000</td>\n",
              "      <td>AAL</td>\n",
              "    </tr>\n",
              "    <tr>\n",
              "      <th>2</th>\n",
              "      <td>2013-02-12</td>\n",
              "      <td>14.45</td>\n",
              "      <td>14.51</td>\n",
              "      <td>14.10</td>\n",
              "      <td>14.27</td>\n",
              "      <td>8126000</td>\n",
              "      <td>AAL</td>\n",
              "    </tr>\n",
              "    <tr>\n",
              "      <th>3</th>\n",
              "      <td>2013-02-13</td>\n",
              "      <td>14.30</td>\n",
              "      <td>14.94</td>\n",
              "      <td>14.25</td>\n",
              "      <td>14.66</td>\n",
              "      <td>10259500</td>\n",
              "      <td>AAL</td>\n",
              "    </tr>\n",
              "    <tr>\n",
              "      <th>4</th>\n",
              "      <td>2013-02-14</td>\n",
              "      <td>14.94</td>\n",
              "      <td>14.96</td>\n",
              "      <td>13.16</td>\n",
              "      <td>13.99</td>\n",
              "      <td>31879900</td>\n",
              "      <td>AAL</td>\n",
              "    </tr>\n",
              "    <tr>\n",
              "      <th>...</th>\n",
              "      <td>...</td>\n",
              "      <td>...</td>\n",
              "      <td>...</td>\n",
              "      <td>...</td>\n",
              "      <td>...</td>\n",
              "      <td>...</td>\n",
              "      <td>...</td>\n",
              "    </tr>\n",
              "    <tr>\n",
              "      <th>619035</th>\n",
              "      <td>2018-02-01</td>\n",
              "      <td>76.84</td>\n",
              "      <td>78.27</td>\n",
              "      <td>76.69</td>\n",
              "      <td>77.82</td>\n",
              "      <td>2982259</td>\n",
              "      <td>ZTS</td>\n",
              "    </tr>\n",
              "    <tr>\n",
              "      <th>619036</th>\n",
              "      <td>2018-02-02</td>\n",
              "      <td>77.53</td>\n",
              "      <td>78.12</td>\n",
              "      <td>76.73</td>\n",
              "      <td>76.78</td>\n",
              "      <td>2595187</td>\n",
              "      <td>ZTS</td>\n",
              "    </tr>\n",
              "    <tr>\n",
              "      <th>619037</th>\n",
              "      <td>2018-02-05</td>\n",
              "      <td>76.64</td>\n",
              "      <td>76.92</td>\n",
              "      <td>73.18</td>\n",
              "      <td>73.83</td>\n",
              "      <td>2962031</td>\n",
              "      <td>ZTS</td>\n",
              "    </tr>\n",
              "    <tr>\n",
              "      <th>619038</th>\n",
              "      <td>2018-02-06</td>\n",
              "      <td>72.74</td>\n",
              "      <td>74.56</td>\n",
              "      <td>72.13</td>\n",
              "      <td>73.27</td>\n",
              "      <td>4924323</td>\n",
              "      <td>ZTS</td>\n",
              "    </tr>\n",
              "    <tr>\n",
              "      <th>619039</th>\n",
              "      <td>2018-02-07</td>\n",
              "      <td>72.70</td>\n",
              "      <td>75.00</td>\n",
              "      <td>72.69</td>\n",
              "      <td>73.86</td>\n",
              "      <td>4534912</td>\n",
              "      <td>ZTS</td>\n",
              "    </tr>\n",
              "  </tbody>\n",
              "</table>\n",
              "<p>619040 rows × 7 columns</p>\n",
              "</div>"
            ],
            "text/plain": [
              "              date   open   high    low  close    volume Name\n",
              "0       2013-02-08  15.07  15.12  14.63  14.75   8407500  AAL\n",
              "1       2013-02-11  14.89  15.01  14.26  14.46   8882000  AAL\n",
              "2       2013-02-12  14.45  14.51  14.10  14.27   8126000  AAL\n",
              "3       2013-02-13  14.30  14.94  14.25  14.66  10259500  AAL\n",
              "4       2013-02-14  14.94  14.96  13.16  13.99  31879900  AAL\n",
              "...            ...    ...    ...    ...    ...       ...  ...\n",
              "619035  2018-02-01  76.84  78.27  76.69  77.82   2982259  ZTS\n",
              "619036  2018-02-02  77.53  78.12  76.73  76.78   2595187  ZTS\n",
              "619037  2018-02-05  76.64  76.92  73.18  73.83   2962031  ZTS\n",
              "619038  2018-02-06  72.74  74.56  72.13  73.27   4924323  ZTS\n",
              "619039  2018-02-07  72.70  75.00  72.69  73.86   4534912  ZTS\n",
              "\n",
              "[619040 rows x 7 columns]"
            ]
          },
          "metadata": {
            "tags": []
          },
          "execution_count": 4
        }
      ]
    },
    {
      "cell_type": "code",
      "metadata": {
        "id": "BvFrixdV2bSw"
      },
      "source": [
        "import torch.nn as nn\n",
        "import torch\n",
        "from torch.autograd import Variable\n",
        "from torch.utils.data import Dataset, DataLoader\n",
        "\n",
        "\n",
        "# we only focus on the close price\n",
        "dataset_cl = dataset[dataset ['Name']=='AAL'].close.values\n"
      ],
      "execution_count": null,
      "outputs": []
    },
    {
      "cell_type": "code",
      "metadata": {
        "id": "XFvN25Yj3w9r",
        "colab": {
          "base_uri": "https://localhost:8080/",
          "height": 419
        },
        "outputId": "cfead8e6-5eb8-4628-dae8-15da3d618445"
      },
      "source": [
        "dataset"
      ],
      "execution_count": null,
      "outputs": [
        {
          "output_type": "execute_result",
          "data": {
            "text/html": [
              "<div>\n",
              "<style scoped>\n",
              "    .dataframe tbody tr th:only-of-type {\n",
              "        vertical-align: middle;\n",
              "    }\n",
              "\n",
              "    .dataframe tbody tr th {\n",
              "        vertical-align: top;\n",
              "    }\n",
              "\n",
              "    .dataframe thead th {\n",
              "        text-align: right;\n",
              "    }\n",
              "</style>\n",
              "<table border=\"1\" class=\"dataframe\">\n",
              "  <thead>\n",
              "    <tr style=\"text-align: right;\">\n",
              "      <th></th>\n",
              "      <th>date</th>\n",
              "      <th>open</th>\n",
              "      <th>high</th>\n",
              "      <th>low</th>\n",
              "      <th>close</th>\n",
              "      <th>volume</th>\n",
              "      <th>Name</th>\n",
              "    </tr>\n",
              "  </thead>\n",
              "  <tbody>\n",
              "    <tr>\n",
              "      <th>0</th>\n",
              "      <td>2013-02-08</td>\n",
              "      <td>15.07</td>\n",
              "      <td>15.12</td>\n",
              "      <td>14.63</td>\n",
              "      <td>14.75</td>\n",
              "      <td>8407500</td>\n",
              "      <td>AAL</td>\n",
              "    </tr>\n",
              "    <tr>\n",
              "      <th>1</th>\n",
              "      <td>2013-02-11</td>\n",
              "      <td>14.89</td>\n",
              "      <td>15.01</td>\n",
              "      <td>14.26</td>\n",
              "      <td>14.46</td>\n",
              "      <td>8882000</td>\n",
              "      <td>AAL</td>\n",
              "    </tr>\n",
              "    <tr>\n",
              "      <th>2</th>\n",
              "      <td>2013-02-12</td>\n",
              "      <td>14.45</td>\n",
              "      <td>14.51</td>\n",
              "      <td>14.10</td>\n",
              "      <td>14.27</td>\n",
              "      <td>8126000</td>\n",
              "      <td>AAL</td>\n",
              "    </tr>\n",
              "    <tr>\n",
              "      <th>3</th>\n",
              "      <td>2013-02-13</td>\n",
              "      <td>14.30</td>\n",
              "      <td>14.94</td>\n",
              "      <td>14.25</td>\n",
              "      <td>14.66</td>\n",
              "      <td>10259500</td>\n",
              "      <td>AAL</td>\n",
              "    </tr>\n",
              "    <tr>\n",
              "      <th>4</th>\n",
              "      <td>2013-02-14</td>\n",
              "      <td>14.94</td>\n",
              "      <td>14.96</td>\n",
              "      <td>13.16</td>\n",
              "      <td>13.99</td>\n",
              "      <td>31879900</td>\n",
              "      <td>AAL</td>\n",
              "    </tr>\n",
              "    <tr>\n",
              "      <th>...</th>\n",
              "      <td>...</td>\n",
              "      <td>...</td>\n",
              "      <td>...</td>\n",
              "      <td>...</td>\n",
              "      <td>...</td>\n",
              "      <td>...</td>\n",
              "      <td>...</td>\n",
              "    </tr>\n",
              "    <tr>\n",
              "      <th>619035</th>\n",
              "      <td>2018-02-01</td>\n",
              "      <td>76.84</td>\n",
              "      <td>78.27</td>\n",
              "      <td>76.69</td>\n",
              "      <td>77.82</td>\n",
              "      <td>2982259</td>\n",
              "      <td>ZTS</td>\n",
              "    </tr>\n",
              "    <tr>\n",
              "      <th>619036</th>\n",
              "      <td>2018-02-02</td>\n",
              "      <td>77.53</td>\n",
              "      <td>78.12</td>\n",
              "      <td>76.73</td>\n",
              "      <td>76.78</td>\n",
              "      <td>2595187</td>\n",
              "      <td>ZTS</td>\n",
              "    </tr>\n",
              "    <tr>\n",
              "      <th>619037</th>\n",
              "      <td>2018-02-05</td>\n",
              "      <td>76.64</td>\n",
              "      <td>76.92</td>\n",
              "      <td>73.18</td>\n",
              "      <td>73.83</td>\n",
              "      <td>2962031</td>\n",
              "      <td>ZTS</td>\n",
              "    </tr>\n",
              "    <tr>\n",
              "      <th>619038</th>\n",
              "      <td>2018-02-06</td>\n",
              "      <td>72.74</td>\n",
              "      <td>74.56</td>\n",
              "      <td>72.13</td>\n",
              "      <td>73.27</td>\n",
              "      <td>4924323</td>\n",
              "      <td>ZTS</td>\n",
              "    </tr>\n",
              "    <tr>\n",
              "      <th>619039</th>\n",
              "      <td>2018-02-07</td>\n",
              "      <td>72.70</td>\n",
              "      <td>75.00</td>\n",
              "      <td>72.69</td>\n",
              "      <td>73.86</td>\n",
              "      <td>4534912</td>\n",
              "      <td>ZTS</td>\n",
              "    </tr>\n",
              "  </tbody>\n",
              "</table>\n",
              "<p>619040 rows × 7 columns</p>\n",
              "</div>"
            ],
            "text/plain": [
              "              date   open   high    low  close    volume Name\n",
              "0       2013-02-08  15.07  15.12  14.63  14.75   8407500  AAL\n",
              "1       2013-02-11  14.89  15.01  14.26  14.46   8882000  AAL\n",
              "2       2013-02-12  14.45  14.51  14.10  14.27   8126000  AAL\n",
              "3       2013-02-13  14.30  14.94  14.25  14.66  10259500  AAL\n",
              "4       2013-02-14  14.94  14.96  13.16  13.99  31879900  AAL\n",
              "...            ...    ...    ...    ...    ...       ...  ...\n",
              "619035  2018-02-01  76.84  78.27  76.69  77.82   2982259  ZTS\n",
              "619036  2018-02-02  77.53  78.12  76.73  76.78   2595187  ZTS\n",
              "619037  2018-02-05  76.64  76.92  73.18  73.83   2962031  ZTS\n",
              "619038  2018-02-06  72.74  74.56  72.13  73.27   4924323  ZTS\n",
              "619039  2018-02-07  72.70  75.00  72.69  73.86   4534912  ZTS\n",
              "\n",
              "[619040 rows x 7 columns]"
            ]
          },
          "metadata": {
            "tags": []
          },
          "execution_count": 6
        }
      ]
    },
    {
      "cell_type": "markdown",
      "metadata": {
        "id": "UURKEshg3g0G"
      },
      "source": [
        "# Part 2: Data Processing/ ETL\n",
        "\n",
        "Remember, our time series is a sequence of numbers that we can represent in general mathematically as \n",
        "\n",
        "$$s_{0},s_{1},s_{2},...,s_{P}$$\n",
        "\n",
        "where $s_{p}$ is the numerical value of the time series at time period $p$ and where $P$ is the total length of the series.  In order to apply our RNN we treat the time series prediction problem as a regression problem, and so need to use a sliding window to construct a set of associated input/output pairs to regress on.  This process is animated in the gif below.\n",
        "\n",
        "<img src=\"https://github.com/tonylaioffer/stock-prediction-lstm-using-keras/raw/master/images/timeseries_windowing_training.gif\" width=600 height=288/>\n",
        "\n",
        "For example - using a window of size T = 5 (as illustrated in the gif above) we produce a set of input/output pairs like the one shown in the table below\n",
        "\n",
        "$$\\begin{array}{c|c}\n",
        "\\text{Input} & \\text{Output}\\\\\n",
        "\\hline \\color{CornflowerBlue} {\\langle s_{1},s_{2},s_{3},s_{4},s_{5}\\rangle} & \\color{Goldenrod}{ s_{6}} \\\\\n",
        "\\ \\color{CornflowerBlue} {\\langle s_{2},s_{3},s_{4},s_{5},s_{6} \\rangle } & \\color{Goldenrod} {s_{7} } \\\\\n",
        "\\color{CornflowerBlue}  {\\vdots} & \\color{Goldenrod} {\\vdots}\\\\\n",
        "\\color{CornflowerBlue} { \\langle s_{P-5},s_{P-4},s_{P-3},s_{P-2},s_{P-1} \\rangle } & \\color{Goldenrod} {s_{P}}\n",
        "\\end{array}$$\n",
        "\n",
        "Notice here that each input is a sequence (or vector) of length 4 (and in general has length equal to the window size T) while each corresponding output is a scalar value.  Notice also how given a time series of length P and window size T = 5 as shown above, we created P - 5  input/output pairs.  More generally, for a window size T we create P - T such pairs.\n",
        "\n",
        "Now let's window the input time series as described above!  "
      ]
    },
    {
      "cell_type": "markdown",
      "metadata": {
        "id": "TWf2gy18tYPu"
      },
      "source": [
        "## Step 1: Feature Scaling\n"
      ]
    },
    {
      "cell_type": "code",
      "metadata": {
        "id": "ibAG3NettYgF"
      },
      "source": [
        "# Feature Scaling\n",
        "from sklearn.preprocessing import MinMaxScaler\n",
        "\n",
        "sc = MinMaxScaler(feature_range = (0,1))\n",
        "\n",
        "# Scale the data\n",
        "dataset_cl = dataset_cl.reshape(dataset_cl.shape[0], 1)\n",
        "dataset_cl = sc.fit_transform(dataset_cl)"
      ],
      "execution_count": null,
      "outputs": []
    },
    {
      "cell_type": "markdown",
      "metadata": {
        "id": "HfktMKJ0VWRV"
      },
      "source": [
        "## Step 2: Cutting time series data into sequences\n",
        "\n",
        "Time series is a sequence of numbers that we can represent in general mathematically as\n",
        "$$s_{0}, s_{1}, s_{2}, \\cdots, s_{P} $$\n",
        "\n",
        "where $s_{p}$ is the predictied value of the time series at time period $p$ and where $P$ is the total length of the series. \n",
        "\n",
        "In order to apply RNN, we treat the time series predcition problem as a regression problem, and so we need to us a sliding window to construct a set of associated input/output pairs to regress on. We can see the gif below:\n",
        "\n",
        "<img src=\"https://github.com/tonylaioffer/stock-prediction-lstm-using-keras/raw/master/images/timeseries_windowing_training.gif\" width=600 height=288/>\n",
        "\n",
        "In this example, we can see if we use a window of size T = 5, the input/output pairs are shown in the table below.\n",
        "\n",
        "$$\\begin{array}{c|c}\n",
        "\\text{Input} & \\text{Output}\\\\\n",
        "\\hline \\color{CornflowerBlue} {\\langle s_{1},s_{2},s_{3},s_{4},s_{5}\\rangle} & \\color{Goldenrod}{ s_{6}} \\\\\n",
        "\\ \\color{CornflowerBlue} {\\langle s_{2},s_{3},s_{4},s_{5},s_{6} \\rangle } & \\color{Goldenrod} {s_{7} } \\\\\n",
        "\\color{CornflowerBlue}  {\\vdots} & \\color{Goldenrod} {\\vdots}\\\\\n",
        "\\color{CornflowerBlue} { \\langle s_{P-5},s_{P-4},s_{P-3},s_{P-2},s_{P-1} \\rangle } & \\color{Goldenrod} {s_{P}}\n",
        "\\end{array}$$\n",
        "\n",
        "Notice that each input is a sequence(or vector) of length 4(in general the window size is T) while each corresponding output is a scalar value. \n",
        "\n",
        "Also, notice that given a time series of length P and window size T = 5, we created P - 5 input/output pairs. (In general, for a window size T, we created P - T such pairs.)"
      ]
    },
    {
      "cell_type": "code",
      "metadata": {
        "id": "pvBLqRvm4L6k"
      },
      "source": [
        "# Create a function to process the data into 7 day look back slices\n",
        "\n",
        "def processData(data, lb):\n",
        "    X, y = [], []\n",
        "    for i in range(len(data) - lb - 1):\n",
        "        X.append(data[i : i+ lb, 0])\n",
        "        y.append(data[(i+ lb), 0])\n",
        "    return np.array(X), np.array(y)\n",
        "\n",
        "X, y = processData(dataset_cl, 7)\n"
      ],
      "execution_count": null,
      "outputs": []
    },
    {
      "cell_type": "markdown",
      "metadata": {
        "id": "yHsQGQ_V42G0"
      },
      "source": [
        "## Step 3: Split training and testing sets\n",
        "\n",
        "We split the dataset to 2/3 training and tseting dataset.\n",
        "\n",
        "Since it is a time series dataset, we won't split the dataset randomly. We don't want to validate our model by traning on random subset of the series and then testing another random subset since the input/output pairs are related temporally. \n",
        "\n",
        "Here we will train on one solid chunk of the series, and validate on a later chunck as this simulate how we would predict future values of a time series.\n"
      ]
    },
    {
      "cell_type": "code",
      "metadata": {
        "id": "STthsJJxyfr4"
      },
      "source": [
        "X_train, X_test = X[: int(X.shape[0]*0.8)], X[int(X.shape[0]*0.8) :]\n",
        "y_train, y_test = y[: int(y.shape[0]*0.8)], y[int(y.shape[0]*0.8) :]"
      ],
      "execution_count": null,
      "outputs": []
    },
    {
      "cell_type": "code",
      "metadata": {
        "id": "syFXDlpn45xA",
        "colab": {
          "base_uri": "https://localhost:8080/"
        },
        "outputId": "d043d672-6389-40af-db71-50393a2bffe5"
      },
      "source": [
        "print(X_train.shape[0])\n",
        "print(X_test.shape[0])\n",
        "print(y_train.shape[0])\n",
        "print(y_test.shape[0])"
      ],
      "execution_count": null,
      "outputs": [
        {
          "output_type": "stream",
          "text": [
            "1000\n",
            "251\n",
            "1000\n",
            "251\n"
          ],
          "name": "stdout"
        }
      ]
    },
    {
      "cell_type": "code",
      "metadata": {
        "id": "oPfVnOcm2bTF"
      },
      "source": [
        "X_train = np.reshape(X_train, (X_train.shape[0], 1, X_train.shape[1]))\n",
        "X_test = np.reshape(X_test, (X_test.shape[0], 1, X_test.shape[1]))\n"
      ],
      "execution_count": null,
      "outputs": []
    },
    {
      "cell_type": "code",
      "metadata": {
        "colab": {
          "base_uri": "https://localhost:8080/"
        },
        "id": "4AJIRAW60gQn",
        "outputId": "74a3f58a-fa89-4d65-fad3-336cc5ff49b9"
      },
      "source": [
        "X_train"
      ],
      "execution_count": null,
      "outputs": [
        {
          "output_type": "execute_result",
          "data": {
            "text/plain": [
              "array([[[0.03806381, 0.03168317, 0.02750275, ..., 0.02134213,\n",
              "         0.03256326, 0.02728273]],\n",
              "\n",
              "       [[0.03168317, 0.02750275, 0.03608361, ..., 0.03256326,\n",
              "         0.02728273, 0.00682068]],\n",
              "\n",
              "       [[0.02750275, 0.03608361, 0.02134213, ..., 0.02728273,\n",
              "         0.00682068, 0.00770077]],\n",
              "\n",
              "       ...,\n",
              "\n",
              "       [[0.76765677, 0.80462046, 0.74653465, ..., 0.68712871,\n",
              "         0.68272827, 0.68184818]],\n",
              "\n",
              "       [[0.80462046, 0.74653465, 0.70143014, ..., 0.68272827,\n",
              "         0.68184818, 0.6860286 ]],\n",
              "\n",
              "       [[0.74653465, 0.70143014, 0.68712871, ..., 0.68184818,\n",
              "         0.6860286 , 0.71023102]]])"
            ]
          },
          "metadata": {
            "tags": []
          },
          "execution_count": 12
        }
      ]
    },
    {
      "cell_type": "code",
      "metadata": {
        "colab": {
          "base_uri": "https://localhost:8080/"
        },
        "id": "rJjTEvPa0eLD",
        "outputId": "a1958f07-7a73-4623-d5e9-ce74b4fc355c"
      },
      "source": [
        "X_test"
      ],
      "execution_count": null,
      "outputs": [
        {
          "output_type": "execute_result",
          "data": {
            "text/plain": [
              "array([[[0.70143014, 0.68712871, 0.68272827, ..., 0.6860286 ,\n",
              "         0.71023102, 0.70737074]],\n",
              "\n",
              "       [[0.68712871, 0.68272827, 0.68184818, ..., 0.71023102,\n",
              "         0.70737074, 0.7049505 ]],\n",
              "\n",
              "       [[0.68272827, 0.68184818, 0.6860286 , ..., 0.70737074,\n",
              "         0.7049505 , 0.73223322]],\n",
              "\n",
              "       ...,\n",
              "\n",
              "       [[0.9190319 , 0.88074807, 0.88118812, ..., 0.87062706,\n",
              "         0.90869087, 0.8990099 ]],\n",
              "\n",
              "       [[0.88074807, 0.88118812, 0.87260726, ..., 0.90869087,\n",
              "         0.8990099 , 0.85984598]],\n",
              "\n",
              "       [[0.88118812, 0.87260726, 0.87062706, ..., 0.8990099 ,\n",
              "         0.85984598, 0.80836084]]])"
            ]
          },
          "metadata": {
            "tags": []
          },
          "execution_count": 13
        }
      ]
    },
    {
      "cell_type": "markdown",
      "metadata": {
        "id": "GMXggue15R41"
      },
      "source": [
        "# Part 3:  Model Training\n",
        "## Step 1: Build and run an RNN regression model\n",
        "\n",
        "We use Keras to build a two hidden layer RNN of the following specifications:\n",
        "- layer 1 uses an LSTM module with 5 hidden units( the input_shape = (window_size, 1))\n",
        "- layer 2 uses a fully connected module with one unit\n",
        "- the 'mean_squared_error' loss should be used\n"
      ]
    },
    {
      "cell_type": "code",
      "metadata": {
        "id": "HNWryPPg2bTM"
      },
      "source": [
        "class RNN(nn.Module):\n",
        "    def __init__(self, i_size, h_size, n_layers, o_size, dropout = 0.1, bidirectional = True):\n",
        "        super(RNN, self).__init__()\n",
        "        self.num_directions = bidirectional + 1\n",
        "        # here directly using LSTM\n",
        "        self.rnn = nn.LSTM(\n",
        "            input_size = i_size,\n",
        "            hidden_size = h_size,\n",
        "            num_layers = n_layers,\n",
        "            dropout = dropout,\n",
        "            bidirectional = bidirectional\n",
        "        )\n",
        "        self.out = nn.Linear(h_size, o_size)\n",
        "\n",
        "    def forward(self, x, h_state):\n",
        "        r_out, hidden_state = self.rnn(x, h_state)\n",
        "\n",
        "        hidden_size = hidden_state[-1].size(-1)\n",
        "        r_out = r_out.view(-1, self.num_directions, hidden_size)\n",
        "        outs = self.out(r_out)\n",
        "\n",
        "        return outs, hidden_state"
      ],
      "execution_count": null,
      "outputs": []
    },
    {
      "cell_type": "code",
      "metadata": {
        "id": "SwwPpVsK2bTQ"
      },
      "source": [
        "# Globals\n",
        "\n",
        "INPUT_SIZE = 7\n",
        "HIDDEN_SIZE = 64\n",
        "NUM_LAYERS = 3\n",
        "OUTPUT_SIZE = 1\n",
        "BATCH_SIZE = 128\n",
        "\n",
        "# Hyper parameters\n",
        "\n",
        "learning_rate = 0.001\n",
        "num_epochs = 300\n",
        "\n",
        "rnn = RNN(INPUT_SIZE, HIDDEN_SIZE, NUM_LAYERS, OUTPUT_SIZE, bidirectional=False)\n",
        "rnn.cuda()\n",
        "\n",
        "optimiser = torch.optim.Adam(rnn.parameters(), lr = learning_rate)\n",
        "criterion = nn.MSELoss()\n",
        "\n",
        "hidden_state = None"
      ],
      "execution_count": null,
      "outputs": []
    },
    {
      "cell_type": "code",
      "metadata": {
        "id": "BiQaghDCtNdg",
        "colab": {
          "base_uri": "https://localhost:8080/"
        },
        "outputId": "75a0b390-95b2-437a-9da5-dbfa4d08eba8"
      },
      "source": [
        "rnn"
      ],
      "execution_count": null,
      "outputs": [
        {
          "output_type": "execute_result",
          "data": {
            "text/plain": [
              "RNN(\n",
              "  (rnn): LSTM(7, 64, num_layers=3, dropout=0.1)\n",
              "  (out): Linear(in_features=64, out_features=1, bias=True)\n",
              ")"
            ]
          },
          "metadata": {
            "tags": []
          },
          "execution_count": 28
        }
      ]
    },
    {
      "cell_type": "code",
      "metadata": {
        "id": "olY5dc_sQ345",
        "colab": {
          "base_uri": "https://localhost:8080/",
          "height": 86
        },
        "outputId": "18c6d91f-65ed-4d15-abb1-f3026549e0f2"
      },
      "source": [
        "\"\"\"\n",
        "\n",
        "class StockDateset(Dataset):\n",
        "    def __init__(self, X_dataset, y_dataset):\n",
        "        \n",
        "        self.X_dataset = torch.from_numpy(X_dataset)\n",
        "        self.y_dataset = torch.from_numpy(y_dataset)\n",
        "\n",
        "    def __len__(self):\n",
        "        return np.shape(self.y_dataset)[0]\n",
        "\n",
        "    def __getitem__(self, idx):\n",
        "\n",
        "        sample = {'Sequence': self.X_dataset[:, dx, :], 'Target': self.y_dataset[idx]}\n",
        "\n",
        "\n",
        "        return sample\n",
        "\n",
        "\"\"\""
      ],
      "execution_count": null,
      "outputs": [
        {
          "output_type": "execute_result",
          "data": {
            "application/vnd.google.colaboratory.intrinsic+json": {
              "type": "string"
            },
            "text/plain": [
              "\"\\n\\nclass StockDateset(Dataset):\\n    def __init__(self, X_dataset, y_dataset):\\n        \\n        self.X_dataset = torch.from_numpy(X_dataset)\\n        self.y_dataset = torch.from_numpy(y_dataset)\\n\\n    def __len__(self):\\n        return np.shape(self.y_dataset)[0]\\n\\n    def __getitem__(self, idx):\\n\\n        sample = {'Sequence': self.X_dataset[:, dx, :], 'Target': self.y_dataset[idx]}\\n\\n\\n        return sample\\n\\n\""
            ]
          },
          "metadata": {
            "tags": []
          },
          "execution_count": 29
        }
      ]
    },
    {
      "cell_type": "code",
      "metadata": {
        "id": "de3JU38uRp-S"
      },
      "source": [
        "# Train_ds = StockDataset(X_train, y_train)"
      ],
      "execution_count": null,
      "outputs": []
    },
    {
      "cell_type": "code",
      "metadata": {
        "id": "QlRhF5JP2bTX",
        "colab": {
          "base_uri": "https://localhost:8080/"
        },
        "outputId": "85a8e6fa-383a-46e4-abe1-389b34eab82f"
      },
      "source": [
        "history = []\n",
        "X_test_cuda = torch.tensor(X_test).float().cuda()\n",
        "y_test_cuda = torch.tensor(y_test).float().cuda()\n",
        "\n",
        "\n",
        "# we use all the data in one batch\n",
        "inputs_cuda = torch.tensor(X_train).float().cuda()\n",
        "labels_cuda = torch.tensor(y_train).float().cuda()\n",
        "\n",
        "\n",
        "\n",
        "for epoch in range(num_epochs):\n",
        "    rnn.train()\n",
        "    output, _ = rnn(inputs_cuda, hidden_state)\n",
        "    # print(output.size())\n",
        "\n",
        "    loss = criterion(output[:,0,:].view(-1), labels_cuda)\n",
        "    optimiser.zero_grad()\n",
        "    loss.backward()  # back propagation\n",
        "    optimiser.step() # update the parameters\n",
        "\n",
        "\n",
        "    if epoch % 20 == 0:\n",
        "        rnn.eval()\n",
        "        test_output, _ = rnn(X_test_cuda, hidden_state)\n",
        "        test_loss = criterion(test_output.view(-1), y_test_cuda)\n",
        "        print('epoch {}, loss {}, eval loss{}'.format(epoch, loss.item(), test_loss.item()))\n",
        "    else:\n",
        "        print('epoch {}, loss {}'.format(epoch, loss.item()))\n",
        "    history.append(loss.item())"
      ],
      "execution_count": null,
      "outputs": [
        {
          "output_type": "stream",
          "text": [
            "epoch 0, loss 0.44208452105522156, eval loss0.7419434785842896\n",
            "epoch 1, loss 0.40390121936798096\n",
            "epoch 2, loss 0.3656897246837616\n",
            "epoch 3, loss 0.3271057903766632\n",
            "epoch 4, loss 0.2872694730758667\n",
            "epoch 5, loss 0.24480898678302765\n",
            "epoch 6, loss 0.1988096684217453\n",
            "epoch 7, loss 0.15032464265823364\n",
            "epoch 8, loss 0.10088495910167694\n",
            "epoch 9, loss 0.05256478488445282\n",
            "epoch 10, loss 0.025014398619532585\n",
            "epoch 11, loss 0.045932285487651825\n",
            "epoch 12, loss 0.08243276178836823\n",
            "epoch 13, loss 0.07854756712913513\n",
            "epoch 14, loss 0.054767023772001266\n",
            "epoch 15, loss 0.034640368074178696\n",
            "epoch 16, loss 0.02577621303498745\n",
            "epoch 17, loss 0.025591395795345306\n",
            "epoch 18, loss 0.030089832842350006\n",
            "epoch 19, loss 0.034453097730875015\n",
            "epoch 20, loss 0.03881591558456421, eval loss0.1027970239520073\n",
            "epoch 21, loss 0.040854569524526596\n",
            "epoch 22, loss 0.040193475782871246\n",
            "epoch 23, loss 0.03812113776803017\n",
            "epoch 24, loss 0.034687239676713943\n",
            "epoch 25, loss 0.030134469270706177\n",
            "epoch 26, loss 0.025602517649531364\n",
            "epoch 27, loss 0.021980740129947662\n",
            "epoch 28, loss 0.019344262778759003\n",
            "epoch 29, loss 0.018239876255393028\n",
            "epoch 30, loss 0.019249115139245987\n",
            "epoch 31, loss 0.020833265036344528\n",
            "epoch 32, loss 0.021537357941269875\n",
            "epoch 33, loss 0.021304799243807793\n",
            "epoch 34, loss 0.019598690792918205\n",
            "epoch 35, loss 0.016565661877393723\n",
            "epoch 36, loss 0.014031225815415382\n",
            "epoch 37, loss 0.012068049050867558\n",
            "epoch 38, loss 0.011775492690503597\n",
            "epoch 39, loss 0.011227629147469997\n",
            "epoch 40, loss 0.011631912551820278, eval loss0.028568116948008537\n",
            "epoch 41, loss 0.011485825292766094\n",
            "epoch 42, loss 0.010265124030411243\n",
            "epoch 43, loss 0.0088874576613307\n",
            "epoch 44, loss 0.007492458913475275\n",
            "epoch 45, loss 0.006369948852807283\n",
            "epoch 46, loss 0.005692932289093733\n",
            "epoch 47, loss 0.005626457277685404\n",
            "epoch 48, loss 0.006466193590313196\n",
            "epoch 49, loss 0.005961846560239792\n",
            "epoch 50, loss 0.005228040739893913\n",
            "epoch 51, loss 0.004493130836635828\n",
            "epoch 52, loss 0.003817040706053376\n",
            "epoch 53, loss 0.004037658218294382\n",
            "epoch 54, loss 0.0044786762446165085\n",
            "epoch 55, loss 0.00476504722610116\n",
            "epoch 56, loss 0.004274019040167332\n",
            "epoch 57, loss 0.004030825104564428\n",
            "epoch 58, loss 0.0037499999161809683\n",
            "epoch 59, loss 0.0038679521530866623\n",
            "epoch 60, loss 0.004443630576133728, eval loss0.011432223953306675\n",
            "epoch 61, loss 0.0043679107911884785\n",
            "epoch 62, loss 0.003922509029507637\n",
            "epoch 63, loss 0.003641465911641717\n",
            "epoch 64, loss 0.0037602107040584087\n",
            "epoch 65, loss 0.0038335116114467382\n",
            "epoch 66, loss 0.0037487561348825693\n",
            "epoch 67, loss 0.0038208600599318743\n",
            "epoch 68, loss 0.0036671492271125317\n",
            "epoch 69, loss 0.003500167978927493\n",
            "epoch 70, loss 0.0037013771943747997\n",
            "epoch 71, loss 0.0034832970704883337\n",
            "epoch 72, loss 0.0036235463339835405\n",
            "epoch 73, loss 0.0035313963890075684\n",
            "epoch 74, loss 0.003413227153941989\n",
            "epoch 75, loss 0.003242104547098279\n",
            "epoch 76, loss 0.0033428920432925224\n",
            "epoch 77, loss 0.0033823486883193254\n",
            "epoch 78, loss 0.0036917678080499172\n",
            "epoch 79, loss 0.003367397468537092\n",
            "epoch 80, loss 0.003210613504052162, eval loss0.011510290205478668\n",
            "epoch 81, loss 0.003320801304653287\n",
            "epoch 82, loss 0.003225964028388262\n",
            "epoch 83, loss 0.0031620790250599384\n",
            "epoch 84, loss 0.0032502750400453806\n",
            "epoch 85, loss 0.0034847017377614975\n",
            "epoch 86, loss 0.0030395241919904947\n",
            "epoch 87, loss 0.0031911651603877544\n",
            "epoch 88, loss 0.0032537956722080708\n",
            "epoch 89, loss 0.0031100609339773655\n",
            "epoch 90, loss 0.0033670912962406874\n",
            "epoch 91, loss 0.003072378458455205\n",
            "epoch 92, loss 0.0031174805480986834\n",
            "epoch 93, loss 0.0030237501487135887\n",
            "epoch 94, loss 0.00320797530002892\n",
            "epoch 95, loss 0.0030743665993213654\n",
            "epoch 96, loss 0.003154635662212968\n",
            "epoch 97, loss 0.002985011786222458\n",
            "epoch 98, loss 0.003043980337679386\n",
            "epoch 99, loss 0.0031690718606114388\n",
            "epoch 100, loss 0.0030249429401010275, eval loss0.011401806026697159\n",
            "epoch 101, loss 0.0029812168795615435\n",
            "epoch 102, loss 0.0032654330134391785\n",
            "epoch 103, loss 0.003222240600734949\n",
            "epoch 104, loss 0.0030019672121852636\n",
            "epoch 105, loss 0.0031926180236041546\n",
            "epoch 106, loss 0.0031171939335763454\n",
            "epoch 107, loss 0.0032145690638571978\n",
            "epoch 108, loss 0.0030341711826622486\n",
            "epoch 109, loss 0.0031291076447814703\n",
            "epoch 110, loss 0.0031783273443579674\n",
            "epoch 111, loss 0.002994407434016466\n",
            "epoch 112, loss 0.003127180738374591\n",
            "epoch 113, loss 0.002957499586045742\n",
            "epoch 114, loss 0.0029655902180820704\n",
            "epoch 115, loss 0.003055111039429903\n",
            "epoch 116, loss 0.0030866051092743874\n",
            "epoch 117, loss 0.003111313097178936\n",
            "epoch 118, loss 0.002927243011072278\n",
            "epoch 119, loss 0.003080829279497266\n",
            "epoch 120, loss 0.002900215331465006, eval loss0.010719089768826962\n",
            "epoch 121, loss 0.0030115090776234865\n",
            "epoch 122, loss 0.003012215020135045\n",
            "epoch 123, loss 0.0028599475044757128\n",
            "epoch 124, loss 0.0029680554289370775\n",
            "epoch 125, loss 0.0029898034408688545\n",
            "epoch 126, loss 0.0028353100642561913\n",
            "epoch 127, loss 0.0029405876994132996\n",
            "epoch 128, loss 0.0029801013879477978\n",
            "epoch 129, loss 0.0029166867025196552\n",
            "epoch 130, loss 0.00283881276845932\n",
            "epoch 131, loss 0.002761700190603733\n",
            "epoch 132, loss 0.00270717591047287\n",
            "epoch 133, loss 0.0027204062789678574\n",
            "epoch 134, loss 0.002981680678203702\n",
            "epoch 135, loss 0.0029370407573878765\n",
            "epoch 136, loss 0.0028246543370187283\n",
            "epoch 137, loss 0.0030475256498903036\n",
            "epoch 138, loss 0.0028791192453354597\n",
            "epoch 139, loss 0.0029148405883461237\n",
            "epoch 140, loss 0.0030106673948466778, eval loss0.010489619337022305\n",
            "epoch 141, loss 0.0028492470737546682\n",
            "epoch 142, loss 0.002830041805282235\n",
            "epoch 143, loss 0.003015669295564294\n",
            "epoch 144, loss 0.002880485262721777\n",
            "epoch 145, loss 0.002684936160221696\n",
            "epoch 146, loss 0.002963754814118147\n",
            "epoch 147, loss 0.00284927268512547\n",
            "epoch 148, loss 0.0029445576947182417\n",
            "epoch 149, loss 0.002934505697339773\n",
            "epoch 150, loss 0.0026607108302414417\n",
            "epoch 151, loss 0.002875738777220249\n",
            "epoch 152, loss 0.002743994351476431\n",
            "epoch 153, loss 0.0028044013306498528\n",
            "epoch 154, loss 0.002788483863696456\n",
            "epoch 155, loss 0.002923081163316965\n",
            "epoch 156, loss 0.0029452324379235506\n",
            "epoch 157, loss 0.0029449339490383863\n",
            "epoch 158, loss 0.002686605555936694\n",
            "epoch 159, loss 0.0027802258264273405\n",
            "epoch 160, loss 0.0030537692364305258, eval loss0.01030056830495596\n",
            "epoch 161, loss 0.0028116346802562475\n",
            "epoch 162, loss 0.0027753631584346294\n",
            "epoch 163, loss 0.0028397294227033854\n",
            "epoch 164, loss 0.00261000357568264\n",
            "epoch 165, loss 0.002815703861415386\n",
            "epoch 166, loss 0.002750355750322342\n",
            "epoch 167, loss 0.002659797901287675\n",
            "epoch 168, loss 0.0026851834263652563\n",
            "epoch 169, loss 0.0028219905216246843\n",
            "epoch 170, loss 0.002772633219137788\n",
            "epoch 171, loss 0.00276009738445282\n",
            "epoch 172, loss 0.0027932568918913603\n",
            "epoch 173, loss 0.0028010571841150522\n",
            "epoch 174, loss 0.0026110783219337463\n",
            "epoch 175, loss 0.0027822500560432673\n",
            "epoch 176, loss 0.0028905654326081276\n",
            "epoch 177, loss 0.0028852387331426144\n",
            "epoch 178, loss 0.002682751277461648\n",
            "epoch 179, loss 0.002765593584626913\n",
            "epoch 180, loss 0.0028753895312547684, eval loss0.009967927820980549\n",
            "epoch 181, loss 0.0027447063475847244\n",
            "epoch 182, loss 0.0027696292381733656\n",
            "epoch 183, loss 0.0027743016835302114\n",
            "epoch 184, loss 0.002577107399702072\n",
            "epoch 185, loss 0.002744512166827917\n",
            "epoch 186, loss 0.0026063648983836174\n",
            "epoch 187, loss 0.0025953559670597315\n",
            "epoch 188, loss 0.00262759649194777\n",
            "epoch 189, loss 0.002819950459524989\n",
            "epoch 190, loss 0.002649222034960985\n",
            "epoch 191, loss 0.0025944302324205637\n",
            "epoch 192, loss 0.002631296869367361\n",
            "epoch 193, loss 0.0026885438710451126\n",
            "epoch 194, loss 0.0025800634175539017\n",
            "epoch 195, loss 0.0027181331533938646\n",
            "epoch 196, loss 0.0029238639399409294\n",
            "epoch 197, loss 0.002601803047582507\n",
            "epoch 198, loss 0.0028158416971564293\n",
            "epoch 199, loss 0.0025346961338073015\n",
            "epoch 200, loss 0.0024218254256993532, eval loss0.009611645713448524\n",
            "epoch 201, loss 0.002747212303802371\n",
            "epoch 202, loss 0.0026953602209687233\n",
            "epoch 203, loss 0.002626873319968581\n",
            "epoch 204, loss 0.002716047689318657\n",
            "epoch 205, loss 0.0026304111815989017\n",
            "epoch 206, loss 0.002777637680992484\n",
            "epoch 207, loss 0.0025310807395726442\n",
            "epoch 208, loss 0.002646542154252529\n",
            "epoch 209, loss 0.002683113794773817\n",
            "epoch 210, loss 0.0025463926140218973\n",
            "epoch 211, loss 0.0024695363827049732\n",
            "epoch 212, loss 0.0025273615028709173\n",
            "epoch 213, loss 0.0025512247812002897\n",
            "epoch 214, loss 0.0025451683904975653\n",
            "epoch 215, loss 0.0027020717971026897\n",
            "epoch 216, loss 0.002377751050516963\n",
            "epoch 217, loss 0.002610160270705819\n",
            "epoch 218, loss 0.0025171348825097084\n",
            "epoch 219, loss 0.002620143350213766\n",
            "epoch 220, loss 0.002711694920435548, eval loss0.009282437153160572\n",
            "epoch 221, loss 0.002702604979276657\n",
            "epoch 222, loss 0.0026103733107447624\n",
            "epoch 223, loss 0.0026217340491712093\n",
            "epoch 224, loss 0.002497608307749033\n",
            "epoch 225, loss 0.0025988761335611343\n",
            "epoch 226, loss 0.002772274659946561\n",
            "epoch 227, loss 0.0023901958484202623\n",
            "epoch 228, loss 0.0025456880684942007\n",
            "epoch 229, loss 0.002610647352412343\n",
            "epoch 230, loss 0.0026918763760477304\n",
            "epoch 231, loss 0.002733983565121889\n",
            "epoch 232, loss 0.0025050132535398006\n",
            "epoch 233, loss 0.002552691614255309\n",
            "epoch 234, loss 0.0028275325894355774\n",
            "epoch 235, loss 0.002382197417318821\n",
            "epoch 236, loss 0.0025091313291341066\n",
            "epoch 237, loss 0.0023912822362035513\n",
            "epoch 238, loss 0.002456207061186433\n",
            "epoch 239, loss 0.0026108743622899055\n",
            "epoch 240, loss 0.002699342556297779, eval loss0.009169024415314198\n",
            "epoch 241, loss 0.0024646196980029345\n",
            "epoch 242, loss 0.0025454016868025064\n",
            "epoch 243, loss 0.002454552333801985\n",
            "epoch 244, loss 0.0025724240113049746\n",
            "epoch 245, loss 0.002461582189425826\n",
            "epoch 246, loss 0.002471498679369688\n",
            "epoch 247, loss 0.0024963461328297853\n",
            "epoch 248, loss 0.0023957164958119392\n",
            "epoch 249, loss 0.002576952101662755\n",
            "epoch 250, loss 0.0024549541994929314\n",
            "epoch 251, loss 0.002403863472864032\n",
            "epoch 252, loss 0.0025133672170341015\n",
            "epoch 253, loss 0.002413015579804778\n",
            "epoch 254, loss 0.0024321593809872866\n",
            "epoch 255, loss 0.0023451976012438536\n",
            "epoch 256, loss 0.0027772546745836735\n",
            "epoch 257, loss 0.002537198131904006\n",
            "epoch 258, loss 0.0022257650271058083\n",
            "epoch 259, loss 0.002769877202808857\n",
            "epoch 260, loss 0.002405793173238635, eval loss0.008710159920156002\n",
            "epoch 261, loss 0.0025454808492213488\n",
            "epoch 262, loss 0.002545699244365096\n",
            "epoch 263, loss 0.002436005277559161\n",
            "epoch 264, loss 0.0024807897862046957\n",
            "epoch 265, loss 0.0025750938802957535\n",
            "epoch 266, loss 0.002362301805987954\n",
            "epoch 267, loss 0.0022798755671828985\n",
            "epoch 268, loss 0.002568233525380492\n",
            "epoch 269, loss 0.002513474551960826\n",
            "epoch 270, loss 0.0022641965188086033\n",
            "epoch 271, loss 0.00234094331972301\n",
            "epoch 272, loss 0.0023821003269404173\n",
            "epoch 273, loss 0.002380192279815674\n",
            "epoch 274, loss 0.0027137701399624348\n",
            "epoch 275, loss 0.002425016136839986\n",
            "epoch 276, loss 0.0022773905657231808\n",
            "epoch 277, loss 0.0025479388423264027\n",
            "epoch 278, loss 0.0024965968914330006\n",
            "epoch 279, loss 0.0023704413324594498\n",
            "epoch 280, loss 0.0023921700194478035, eval loss0.008519113063812256\n",
            "epoch 281, loss 0.0025027645751833916\n",
            "epoch 282, loss 0.0022188869770616293\n",
            "epoch 283, loss 0.002393706701695919\n",
            "epoch 284, loss 0.0024481182917952538\n",
            "epoch 285, loss 0.0023527685552835464\n",
            "epoch 286, loss 0.002322918502613902\n",
            "epoch 287, loss 0.0023254496045410633\n",
            "epoch 288, loss 0.002533877966925502\n",
            "epoch 289, loss 0.0023013739846646786\n",
            "epoch 290, loss 0.0022832381073385477\n",
            "epoch 291, loss 0.0026204187888652086\n",
            "epoch 292, loss 0.002361931838095188\n",
            "epoch 293, loss 0.002330808201804757\n",
            "epoch 294, loss 0.002438856288790703\n",
            "epoch 295, loss 0.0024421322159469128\n",
            "epoch 296, loss 0.0023493333719670773\n",
            "epoch 297, loss 0.0023565003648400307\n",
            "epoch 298, loss 0.0023883802350610495\n",
            "epoch 299, loss 0.0024012222420424223\n"
          ],
          "name": "stdout"
        }
      ]
    },
    {
      "cell_type": "code",
      "metadata": {
        "id": "7jxit4ppO9Q4",
        "colab": {
          "base_uri": "https://localhost:8080/"
        },
        "outputId": "26baf9ee-2835-41ab-8b63-d7e99f3d3b27"
      },
      "source": [
        "rnn.out.weight"
      ],
      "execution_count": null,
      "outputs": [
        {
          "output_type": "execute_result",
          "data": {
            "text/plain": [
              "Parameter containing:\n",
              "tensor([[-2.0882e-02, -4.3410e-02,  7.7251e-02,  6.4778e-02,  3.2060e-02,\n",
              "          1.2014e-01, -7.2752e-02,  1.8920e-02,  8.9284e-02,  9.6497e-02,\n",
              "          9.7402e-02, -2.1957e-02,  1.2510e-01, -7.9097e-02, -1.6775e-02,\n",
              "         -4.6854e-03, -8.9196e-02, -9.8209e-02,  4.7076e-02,  1.2257e-01,\n",
              "         -1.2550e-01, -1.0602e-01, -4.0610e-02, -1.2055e-01,  5.1671e-02,\n",
              "         -2.1010e-02, -1.1161e-01, -8.0889e-02,  7.6707e-02, -2.5016e-02,\n",
              "         -3.0555e-02, -1.0538e-01, -1.0426e-01,  1.0342e-01,  1.0444e-01,\n",
              "          1.0807e-02,  1.0712e-01,  4.7160e-02,  7.0664e-02,  7.2020e-02,\n",
              "         -6.8133e-02,  5.7144e-02,  1.1230e-01, -9.9358e-02,  7.3684e-02,\n",
              "          4.5033e-02,  1.0406e-01, -4.0340e-02, -5.7418e-02,  1.2270e-01,\n",
              "         -4.7200e-02, -6.6270e-02, -8.7673e-02, -3.0102e-02,  5.9268e-03,\n",
              "          3.3888e-02, -9.5499e-05, -8.0123e-02, -1.0177e-01,  5.8222e-02,\n",
              "          6.4766e-02,  9.4473e-02, -7.1947e-02, -4.0016e-02]], device='cuda:0',\n",
              "       requires_grad=True)"
            ]
          },
          "metadata": {
            "tags": []
          },
          "execution_count": 32
        }
      ]
    },
    {
      "cell_type": "code",
      "metadata": {
        "id": "4SysHfTsOtPz",
        "colab": {
          "base_uri": "https://localhost:8080/"
        },
        "outputId": "9a2374b2-7ee1-4bea-ccb6-ccdb1c53dc38"
      },
      "source": [
        "for param in rnn.parameters():\n",
        "    print(param.data)"
      ],
      "execution_count": null,
      "outputs": [
        {
          "output_type": "stream",
          "text": [
            "tensor([[-0.0641,  0.0689,  0.1051,  ..., -0.0442,  0.1051, -0.0439],\n",
            "        [-0.0820, -0.0391,  0.0213,  ...,  0.1278, -0.0206, -0.0416],\n",
            "        [-0.0702, -0.1232, -0.1221,  ..., -0.1065,  0.0462, -0.0162],\n",
            "        ...,\n",
            "        [ 0.1077,  0.0373,  0.0772,  ..., -0.0376,  0.1124,  0.0461],\n",
            "        [-0.0852,  0.0650, -0.0441,  ..., -0.0319,  0.0699, -0.1143],\n",
            "        [-0.0989,  0.1028, -0.0547,  ..., -0.0074, -0.0386, -0.0923]],\n",
            "       device='cuda:0')\n",
            "tensor([[-0.0970,  0.0750,  0.0838,  ..., -0.0800,  0.0307, -0.0317],\n",
            "        [-0.0132, -0.1143,  0.0193,  ...,  0.1051, -0.0428, -0.0995],\n",
            "        [-0.0201,  0.1119,  0.0581,  ...,  0.0446,  0.1133, -0.0889],\n",
            "        ...,\n",
            "        [ 0.0216, -0.1300,  0.0660,  ...,  0.0668, -0.0340, -0.0381],\n",
            "        [ 0.0997, -0.0690,  0.0630,  ..., -0.1147,  0.0938,  0.0029],\n",
            "        [ 0.0923,  0.0030,  0.1212,  ..., -0.0271, -0.0988,  0.0595]],\n",
            "       device='cuda:0')\n",
            "tensor([ 5.2245e-02, -9.8756e-02,  3.9452e-02, -5.2998e-02, -1.8667e-02,\n",
            "         2.7715e-02,  1.3189e-02,  1.3985e-01,  1.1731e-01,  1.3702e-01,\n",
            "        -1.3609e-02,  8.4228e-03, -1.1398e-01, -7.5069e-03, -3.8742e-02,\n",
            "        -5.2177e-03, -3.6823e-02, -7.4307e-02, -3.6646e-02, -1.0058e-01,\n",
            "        -2.5388e-02,  1.0249e-01, -6.5999e-02, -2.2381e-02,  8.5790e-02,\n",
            "        -5.5714e-03,  3.2183e-02,  2.5138e-02,  6.8592e-02,  8.8892e-02,\n",
            "         7.2053e-02,  8.3941e-02, -2.4969e-02, -4.0676e-02,  1.3445e-01,\n",
            "        -9.0083e-02, -7.6126e-02, -2.1861e-02, -2.5183e-02, -1.1110e-01,\n",
            "        -3.4235e-02, -2.3645e-02, -4.7018e-02,  8.9076e-03,  7.8480e-02,\n",
            "        -9.8490e-03,  4.9266e-04, -1.0294e-04,  4.9017e-02,  1.3313e-01,\n",
            "         3.1757e-02, -1.5767e-02, -9.8847e-02, -7.0439e-02,  1.3072e-01,\n",
            "        -4.3376e-02, -5.9676e-02, -1.2216e-01,  3.9804e-02, -1.1321e-02,\n",
            "        -9.7712e-02, -4.9799e-02,  5.0489e-02, -7.1638e-02,  1.2950e-01,\n",
            "         4.3429e-02, -4.5278e-02,  6.3751e-02,  1.1125e-01,  2.7475e-02,\n",
            "         8.8651e-02,  4.4140e-02,  5.1531e-02,  1.0627e-01, -6.3432e-02,\n",
            "        -2.6174e-02, -9.9536e-02, -1.1811e-01, -6.8355e-02,  9.2009e-02,\n",
            "        -7.2627e-03, -6.4279e-02,  1.6123e-01, -4.1790e-02,  6.8546e-02,\n",
            "         1.1461e-01,  9.6949e-02, -4.2271e-02,  6.9093e-03, -5.7992e-02,\n",
            "        -2.6424e-02,  8.2462e-02, -7.6133e-02, -1.1063e-01,  9.7834e-02,\n",
            "         4.3843e-02,  6.4183e-02,  7.5476e-02, -8.1125e-02, -5.2568e-02,\n",
            "        -3.1584e-02, -9.3816e-02, -8.0451e-02,  2.0724e-02,  4.0355e-02,\n",
            "         6.7260e-02,  1.0159e-01, -8.2961e-02, -8.2307e-02,  5.4110e-02,\n",
            "         1.1864e-01, -9.8339e-02, -4.6436e-02, -5.2680e-02, -6.0309e-02,\n",
            "        -1.3714e-01,  7.3760e-02, -6.0897e-02, -3.1035e-02,  1.0304e-01,\n",
            "         7.9764e-02,  9.6976e-03,  8.9149e-02,  7.0942e-02,  4.6121e-02,\n",
            "        -1.0007e-01, -1.1659e-01, -1.3738e-01, -3.7529e-02, -6.3018e-02,\n",
            "         4.5652e-02, -4.1476e-02, -5.1129e-02, -1.0395e-01,  5.1160e-02,\n",
            "        -8.4354e-02,  6.3022e-02, -4.8721e-02,  8.3044e-02,  1.3830e-01,\n",
            "        -5.4109e-02, -3.0025e-02,  2.7254e-02,  4.8736e-02, -3.6802e-02,\n",
            "        -1.7502e-02,  1.1581e-01,  1.5477e-02, -4.6146e-02, -4.6207e-02,\n",
            "        -4.5590e-03,  6.2681e-02,  1.0899e-01, -4.3017e-03, -9.2016e-02,\n",
            "         9.0973e-02, -3.4836e-02,  7.5739e-02,  9.5430e-02, -7.7230e-02,\n",
            "        -7.3504e-03,  4.1699e-02, -3.9431e-03, -4.2533e-02, -1.7921e-02,\n",
            "         3.2769e-02, -4.3217e-02,  2.5596e-02,  1.1818e-01, -3.8154e-02,\n",
            "         9.9811e-02, -5.5626e-02, -4.5845e-02, -1.1528e-01,  1.8883e-02,\n",
            "         8.8119e-02, -4.4280e-02,  8.8147e-02,  4.3973e-02, -3.2413e-02,\n",
            "         9.7301e-02, -5.4747e-02, -6.3843e-03,  9.1888e-02, -1.1233e-01,\n",
            "         1.1440e-01,  7.0197e-02, -2.5163e-02, -9.2755e-02, -1.7901e-02,\n",
            "         2.7332e-02, -2.7925e-02,  6.7505e-02,  8.8998e-03, -2.0287e-02,\n",
            "        -1.2065e-01,  9.0543e-02, -4.0865e-02,  1.9861e-03,  9.6334e-02,\n",
            "        -9.6747e-02,  1.0415e-01, -1.1812e-01, -4.8464e-02, -8.0925e-02,\n",
            "         1.2307e-02,  3.6524e-02,  9.3967e-02,  9.3526e-04, -7.7574e-02,\n",
            "         1.6219e-01,  3.5991e-02, -1.2161e-01,  2.0159e-02,  4.9787e-02,\n",
            "         7.2510e-02, -3.2494e-02, -1.0254e-01,  8.1049e-02, -6.4494e-02,\n",
            "        -1.0087e-01, -6.7569e-02,  2.4088e-02, -8.3347e-02, -1.1181e-01,\n",
            "        -2.8396e-02, -5.2750e-02,  1.1421e-01, -7.4249e-02, -8.1095e-02,\n",
            "        -7.7478e-02,  9.7836e-02, -5.8801e-03, -1.1349e-01, -6.9361e-02,\n",
            "         4.6988e-02,  1.7823e-02,  5.8688e-02,  6.1031e-02,  1.3145e-01,\n",
            "        -6.6187e-04,  1.3182e-01,  9.0921e-02,  5.8006e-03,  1.1193e-01,\n",
            "         1.0606e-01,  1.0583e-02,  8.5867e-03,  1.0923e-01,  3.4601e-02,\n",
            "        -1.2460e-01,  4.9859e-02, -2.5925e-02,  1.3091e-01,  2.9436e-02,\n",
            "        -5.4040e-02], device='cuda:0')\n",
            "tensor([ 0.0897,  0.0834,  0.0863,  0.0529, -0.1031,  0.1316,  0.0497,  0.1323,\n",
            "        -0.1113,  0.0489,  0.0455,  0.0089, -0.0700,  0.0937, -0.1035, -0.0628,\n",
            "         0.0316,  0.0510, -0.0446, -0.0984, -0.0361, -0.0292,  0.0434,  0.1132,\n",
            "        -0.0356, -0.0409, -0.0676, -0.0620, -0.0329,  0.0289,  0.1175,  0.0839,\n",
            "        -0.0347,  0.1248,  0.0582, -0.0340,  0.0509,  0.0892, -0.0311,  0.1159,\n",
            "        -0.0815, -0.1281, -0.0126, -0.0890,  0.0634, -0.0819,  0.0843, -0.0123,\n",
            "        -0.0793, -0.0905, -0.1058, -0.1139, -0.0395, -0.0265,  0.0984, -0.0574,\n",
            "         0.0576,  0.0437,  0.0986, -0.1191,  0.0199, -0.0301, -0.0806, -0.1193,\n",
            "         0.1003,  0.0716, -0.0419, -0.0020,  0.0384, -0.0019, -0.0684,  0.0094,\n",
            "         0.0765, -0.0822,  0.0737,  0.1660, -0.0405, -0.0576,  0.1214, -0.0285,\n",
            "         0.0864, -0.1084, -0.0355,  0.1166,  0.0418, -0.0658,  0.0500, -0.0165,\n",
            "         0.0228, -0.0443,  0.1045,  0.0190,  0.0143,  0.0743, -0.0828,  0.0381,\n",
            "         0.0264,  0.0176, -0.0755,  0.0940, -0.0243,  0.0380, -0.0216,  0.0875,\n",
            "        -0.0081, -0.0017, -0.0931,  0.0579,  0.0970,  0.0172, -0.0890, -0.0894,\n",
            "         0.0112,  0.1224, -0.0775, -0.0868,  0.0622, -0.0988,  0.0237,  0.0157,\n",
            "         0.0083, -0.0434,  0.0450,  0.0075,  0.0472,  0.0381, -0.0655, -0.0701,\n",
            "         0.1003,  0.1043, -0.0260, -0.0127,  0.0291, -0.0896,  0.0389,  0.0427,\n",
            "         0.0265, -0.0727,  0.1062,  0.0202, -0.1160,  0.0260, -0.0935, -0.1179,\n",
            "        -0.0722, -0.0748, -0.0100, -0.0824,  0.0061, -0.1092, -0.1000,  0.1053,\n",
            "         0.0669,  0.1080,  0.0765,  0.0454,  0.0159, -0.1194,  0.0099, -0.0019,\n",
            "         0.0962,  0.0254, -0.0720, -0.0626, -0.0032,  0.0721, -0.0435, -0.0892,\n",
            "        -0.0298,  0.0154,  0.0154,  0.1269, -0.0436, -0.0596,  0.0912,  0.0107,\n",
            "         0.0838,  0.0074, -0.0877,  0.0970,  0.0781, -0.1092, -0.0501,  0.0585,\n",
            "         0.0512, -0.0951, -0.1139,  0.1163,  0.0678, -0.1108,  0.0853, -0.0133,\n",
            "        -0.0109, -0.0119, -0.0442, -0.0380,  0.0412, -0.0726, -0.0187, -0.0149,\n",
            "        -0.1024, -0.0730, -0.0889, -0.0163,  0.0814, -0.0127, -0.1073,  0.0750,\n",
            "         0.1226,  0.1215,  0.0708, -0.0856, -0.0867, -0.0644, -0.0219,  0.0079,\n",
            "        -0.0179, -0.0704, -0.0461, -0.1069,  0.0770,  0.0114,  0.1359, -0.0631,\n",
            "        -0.0865,  0.1059, -0.0310, -0.0748,  0.0456,  0.1206,  0.0410, -0.1065,\n",
            "        -0.0007,  0.0891,  0.0283,  0.0987, -0.0535,  0.0430, -0.0378,  0.1154,\n",
            "        -0.0673, -0.0229, -0.0365, -0.0347,  0.0473,  0.0490, -0.0194,  0.0731,\n",
            "        -0.1186, -0.0147, -0.0899,  0.0075,  0.1044,  0.1266, -0.0560, -0.1252],\n",
            "       device='cuda:0')\n",
            "tensor([[-0.0530,  0.0861,  0.0286,  ...,  0.1078,  0.0722, -0.1050],\n",
            "        [ 0.1332,  0.0962,  0.0192,  ..., -0.0128, -0.0479, -0.0405],\n",
            "        [-0.1004,  0.0363, -0.0489,  ..., -0.0837, -0.0499, -0.0275],\n",
            "        ...,\n",
            "        [ 0.0895,  0.0213,  0.0179,  ..., -0.0270,  0.0648, -0.1093],\n",
            "        [ 0.0803, -0.0241,  0.0610,  ..., -0.1253,  0.1008,  0.0712],\n",
            "        [-0.0155, -0.0249,  0.0133,  ..., -0.0802,  0.0892, -0.0485]],\n",
            "       device='cuda:0')\n",
            "tensor([[-0.0450,  0.0082, -0.0434,  ..., -0.0428, -0.0684, -0.0571],\n",
            "        [ 0.0343,  0.0417,  0.1162,  ..., -0.0597,  0.1215, -0.0685],\n",
            "        [-0.0494,  0.0467,  0.0255,  ...,  0.0486,  0.1240,  0.0473],\n",
            "        ...,\n",
            "        [ 0.0187,  0.0523, -0.0469,  ..., -0.0140,  0.0135,  0.1013],\n",
            "        [-0.1256,  0.1193,  0.0216,  ...,  0.0890,  0.0619, -0.0354],\n",
            "        [ 0.0714, -0.0346, -0.0809,  ..., -0.0485,  0.0780,  0.1096]],\n",
            "       device='cuda:0')\n",
            "tensor([-7.7601e-02, -2.8632e-02, -2.3967e-02, -9.1191e-02,  7.2299e-02,\n",
            "        -5.7748e-02,  9.0321e-02, -1.1520e-01,  1.0084e-01, -8.8254e-02,\n",
            "        -1.1397e-02, -1.1240e-02,  9.2185e-02,  8.5871e-02, -1.1619e-01,\n",
            "         1.6427e-05, -1.0372e-01,  5.9402e-02, -2.0615e-02, -6.7209e-02,\n",
            "        -1.9138e-03, -1.1884e-01, -3.1704e-02,  1.1678e-01, -2.5886e-02,\n",
            "         8.1502e-02,  5.6094e-02, -2.3636e-02, -6.2724e-02, -1.1320e-01,\n",
            "        -6.8423e-02, -1.3311e-02, -1.1521e-01,  6.7971e-03, -9.4287e-02,\n",
            "        -9.4099e-02,  8.7061e-02,  8.1385e-02,  1.1225e-01,  2.5791e-02,\n",
            "         1.0797e-01, -2.3376e-02,  3.7443e-02,  1.0063e-01, -4.3308e-02,\n",
            "         6.9974e-03,  8.5215e-02, -2.5582e-02,  1.3064e-02,  1.1808e-01,\n",
            "         5.1254e-03, -9.6256e-03, -5.3558e-02, -1.2028e-01, -1.0267e-01,\n",
            "         3.2902e-02,  3.9394e-02, -9.5237e-02, -6.5960e-02,  7.0007e-02,\n",
            "         6.7345e-02,  5.0087e-02, -7.0987e-03, -6.0638e-02, -1.2358e-01,\n",
            "        -1.0440e-03, -7.2784e-02,  1.9248e-02, -7.8033e-02,  4.3746e-02,\n",
            "         9.1513e-02,  1.0111e-01, -9.3210e-02, -6.6779e-02, -1.0846e-01,\n",
            "        -1.9864e-02,  7.8812e-02,  9.2825e-02, -9.6288e-02, -1.6766e-02,\n",
            "        -9.9696e-02, -9.2739e-02,  4.1010e-03, -9.9464e-02,  6.3227e-02,\n",
            "        -2.9838e-02,  3.0867e-03,  4.1696e-02, -3.1715e-02,  9.1878e-02,\n",
            "         9.9979e-02,  1.0374e-01, -1.1640e-01, -1.2508e-03,  4.0793e-02,\n",
            "         2.5578e-02,  2.0278e-02,  1.0211e-01,  1.2491e-01, -9.2221e-02,\n",
            "        -3.3544e-02, -1.7199e-02, -2.0900e-02, -1.0400e-01,  1.2168e-01,\n",
            "         6.9884e-02, -4.1449e-02,  4.7885e-02,  3.3984e-02,  4.8833e-02,\n",
            "         1.1508e-01,  2.3507e-02, -1.1473e-01, -1.1067e-01, -5.7213e-02,\n",
            "         1.7490e-03, -2.8328e-02, -9.0871e-02, -3.4665e-02, -6.9362e-02,\n",
            "         5.1350e-02,  6.9303e-02,  3.8711e-02,  4.0854e-02, -3.7542e-03,\n",
            "         3.5800e-02,  1.0229e-01, -3.2361e-03, -5.9929e-02,  1.1228e-01,\n",
            "         5.8393e-02,  1.8523e-02,  7.3931e-02, -8.0692e-02,  7.4539e-02,\n",
            "        -1.1500e-01,  9.8070e-02,  1.0470e-01,  8.5722e-02, -1.2015e-01,\n",
            "        -9.3182e-02, -2.5092e-02, -4.0045e-02,  1.2242e-02,  6.9785e-02,\n",
            "         7.3914e-02,  5.9999e-02, -5.5989e-02, -2.8922e-02, -4.6231e-02,\n",
            "        -9.4698e-02, -1.8306e-02, -6.4948e-02, -1.0140e-02, -3.9817e-02,\n",
            "        -1.3298e-02, -7.6159e-02,  3.6647e-02,  8.8738e-02,  7.3914e-02,\n",
            "        -4.0876e-02,  3.1873e-02, -1.2305e-01, -9.7821e-02,  2.5554e-03,\n",
            "        -6.2465e-02, -5.0006e-02,  7.3735e-02, -8.3492e-02, -1.1675e-01,\n",
            "         7.7500e-02,  5.0267e-02,  4.7238e-02,  8.0811e-02, -5.8366e-02,\n",
            "        -7.9099e-03, -1.1489e-01, -1.0526e-01, -6.6957e-02,  6.3464e-02,\n",
            "        -6.1827e-02,  2.8654e-02,  8.6983e-02, -8.7778e-02, -8.3891e-02,\n",
            "         3.1931e-02,  4.6690e-02, -6.6194e-02, -1.1235e-01,  4.5413e-02,\n",
            "        -9.6426e-03,  5.8417e-02,  2.5457e-02,  1.2474e-02, -8.2494e-02,\n",
            "         7.4391e-02, -2.7529e-02, -8.1825e-02,  3.3296e-03, -1.0634e-01,\n",
            "        -8.6923e-02, -6.5604e-02,  9.0624e-02,  1.0466e-01,  4.5185e-02,\n",
            "         3.5961e-02,  4.7562e-02, -9.1183e-02,  1.8854e-02, -1.1702e-01,\n",
            "        -8.2218e-02, -9.2344e-02,  3.1382e-02,  6.0127e-02, -6.8096e-02,\n",
            "        -2.0530e-02, -3.6693e-03,  8.8748e-02, -4.4459e-02, -1.0346e-01,\n",
            "         3.6240e-02, -3.7861e-02,  7.9730e-02, -9.5283e-02, -2.9134e-02,\n",
            "        -6.0222e-02, -1.0672e-01,  1.2784e-01, -1.0620e-01, -1.4509e-02,\n",
            "        -6.9662e-02,  7.6397e-02, -3.6197e-02, -7.2063e-02, -6.7014e-02,\n",
            "        -1.1100e-01,  1.7496e-02, -8.6925e-02, -5.4286e-02,  2.1520e-02,\n",
            "        -4.6074e-02, -7.7514e-02, -1.1832e-01, -3.3426e-03, -1.1172e-01,\n",
            "         7.1554e-02, -9.4561e-02, -3.1134e-02, -9.2325e-02,  8.5140e-02,\n",
            "        -1.2393e-02,  1.3287e-02,  1.1293e-01,  7.8399e-02,  1.0801e-01,\n",
            "         1.6314e-02], device='cuda:0')\n",
            "tensor([-0.0760, -0.0841, -0.0461,  0.1185,  0.0201,  0.1256, -0.0757,  0.0787,\n",
            "        -0.1229, -0.1099, -0.0030,  0.0629,  0.0294,  0.0398, -0.0602,  0.1224,\n",
            "        -0.0889,  0.0664,  0.1232,  0.1099, -0.0929,  0.0662, -0.0983, -0.0270,\n",
            "        -0.0685,  0.1308, -0.1027,  0.0200, -0.1060,  0.1109, -0.0326,  0.0105,\n",
            "         0.0761, -0.0569, -0.1089,  0.0621,  0.0600, -0.0976, -0.0849,  0.1114,\n",
            "         0.1083, -0.1140, -0.0716,  0.0912, -0.0436,  0.0415,  0.0479, -0.0716,\n",
            "         0.0225,  0.1269, -0.1190, -0.0453, -0.0989, -0.1172,  0.0851,  0.0727,\n",
            "         0.0106, -0.1084,  0.1228, -0.0559,  0.0597,  0.0799, -0.0571,  0.0682,\n",
            "         0.0789,  0.0643,  0.1071, -0.0588,  0.0723, -0.0210, -0.0713,  0.0651,\n",
            "        -0.1272,  0.0504,  0.1100,  0.0598,  0.0486, -0.0697, -0.0479, -0.0693,\n",
            "         0.0311,  0.1158, -0.0432,  0.0673,  0.0168, -0.1330, -0.0324,  0.0556,\n",
            "        -0.0200,  0.0570,  0.0468,  0.1028,  0.0522, -0.0977, -0.0061,  0.0237,\n",
            "        -0.1154,  0.1033, -0.0776, -0.1070, -0.1134, -0.0536,  0.0365, -0.0079,\n",
            "         0.0156,  0.0956,  0.0662,  0.0399,  0.1253,  0.0795,  0.0090, -0.0537,\n",
            "        -0.0516, -0.0213,  0.0486,  0.1276,  0.1117, -0.0193, -0.0527,  0.0801,\n",
            "         0.0194, -0.0709,  0.0142,  0.0808,  0.1168, -0.0948, -0.0816, -0.0504,\n",
            "         0.0106, -0.0321,  0.0806, -0.0498, -0.0765,  0.0996,  0.0347,  0.0355,\n",
            "         0.1237,  0.0069,  0.0540, -0.0986, -0.0067, -0.0424, -0.0654,  0.0823,\n",
            "         0.0943, -0.1123, -0.0970, -0.1160, -0.0177, -0.0191,  0.0343, -0.1205,\n",
            "         0.0357, -0.0662,  0.0385, -0.1237, -0.0442, -0.0678,  0.0253,  0.0199,\n",
            "        -0.0715, -0.1164,  0.0685,  0.0041, -0.0904, -0.0763,  0.0572, -0.1029,\n",
            "         0.0823, -0.0380, -0.0519,  0.1172,  0.0705, -0.0997,  0.0362, -0.0199,\n",
            "        -0.0913, -0.0102, -0.0369, -0.0476, -0.0140,  0.1095, -0.0193, -0.0546,\n",
            "        -0.0652, -0.0910, -0.1195,  0.0122, -0.0056, -0.0315,  0.1272, -0.0381,\n",
            "         0.0261, -0.1214,  0.0959,  0.0382, -0.0107, -0.0708, -0.0146, -0.1231,\n",
            "         0.1171,  0.1103,  0.0469, -0.0281,  0.0186,  0.0458,  0.0453, -0.0584,\n",
            "         0.0160, -0.0176, -0.0235, -0.0981, -0.0929, -0.0807, -0.0351,  0.0323,\n",
            "        -0.0936,  0.0920,  0.0313,  0.0804,  0.0452,  0.0865,  0.0195,  0.1072,\n",
            "        -0.0845, -0.0053, -0.1088, -0.1040,  0.1290,  0.0968, -0.0214, -0.0361,\n",
            "        -0.1055, -0.0310, -0.0386,  0.0172,  0.0484,  0.0485,  0.0210,  0.1293,\n",
            "         0.0027, -0.0144,  0.0987,  0.1375,  0.0787, -0.1137,  0.1380,  0.1088,\n",
            "        -0.0319,  0.1086,  0.0767, -0.1337, -0.0985,  0.0451,  0.1076, -0.0335],\n",
            "       device='cuda:0')\n",
            "tensor([[ 0.0959,  0.0717,  0.1294,  ...,  0.0832, -0.0100, -0.0470],\n",
            "        [ 0.0067, -0.0071,  0.1159,  ..., -0.1310, -0.0977, -0.0472],\n",
            "        [-0.0917,  0.0073, -0.0071,  ..., -0.0595, -0.0074, -0.0116],\n",
            "        ...,\n",
            "        [-0.0222,  0.0608,  0.0340,  ...,  0.0597, -0.0801,  0.0820],\n",
            "        [-0.0345, -0.0101,  0.0298,  ...,  0.0481,  0.1169,  0.0378],\n",
            "        [ 0.0789,  0.0042,  0.0778,  ..., -0.0228,  0.0635, -0.0323]],\n",
            "       device='cuda:0')\n",
            "tensor([[ 0.0126,  0.0214,  0.0039,  ..., -0.1129,  0.0861, -0.0295],\n",
            "        [-0.0886,  0.0731,  0.0744,  ...,  0.0118,  0.0172, -0.1190],\n",
            "        [ 0.0344,  0.0518,  0.0471,  ...,  0.0652, -0.0207, -0.0989],\n",
            "        ...,\n",
            "        [-0.0959, -0.0686, -0.0848,  ..., -0.0766,  0.1023, -0.0588],\n",
            "        [-0.0495,  0.0099, -0.0025,  ..., -0.0292,  0.0932, -0.0941],\n",
            "        [ 0.0095,  0.0938,  0.0607,  ...,  0.0942,  0.0788,  0.0923]],\n",
            "       device='cuda:0')\n",
            "tensor([-0.0689, -0.0199,  0.0511,  0.0597,  0.1069, -0.0989, -0.0543, -0.0379,\n",
            "         0.1074, -0.0005,  0.0094, -0.0042,  0.0502,  0.0649,  0.1210,  0.0495,\n",
            "         0.0172,  0.0074,  0.0044, -0.0827, -0.0845, -0.0491, -0.0535,  0.0310,\n",
            "        -0.0727,  0.0106,  0.0993,  0.0254, -0.1075, -0.0254, -0.0889,  0.1043,\n",
            "         0.0373, -0.0982, -0.0147, -0.0970,  0.0351, -0.0773, -0.0969,  0.0023,\n",
            "         0.0715, -0.0741,  0.0990,  0.1045, -0.1293,  0.1050,  0.1192,  0.0976,\n",
            "        -0.1108,  0.0255,  0.0250, -0.0270,  0.1263,  0.1084,  0.0494,  0.1186,\n",
            "         0.1198, -0.0726, -0.0675,  0.0481,  0.0627,  0.0312,  0.0259,  0.0074,\n",
            "         0.1292,  0.0984,  0.0200, -0.0315, -0.0524,  0.0362, -0.0329, -0.0899,\n",
            "         0.0388,  0.0229,  0.1132, -0.0501,  0.0849,  0.1114,  0.0948,  0.0116,\n",
            "        -0.0356, -0.0550,  0.0784,  0.1175, -0.0791, -0.0643,  0.0851, -0.0624,\n",
            "         0.0953,  0.0832,  0.0024, -0.1128, -0.0345, -0.0624,  0.0065, -0.0728,\n",
            "         0.0505,  0.0598,  0.0439,  0.0079,  0.0046, -0.0549,  0.0473,  0.0043,\n",
            "        -0.0299,  0.0895, -0.0731, -0.0338,  0.0913, -0.0583,  0.0783,  0.1255,\n",
            "        -0.0440,  0.0780,  0.0268,  0.1207, -0.0837,  0.0051,  0.0094,  0.0816,\n",
            "         0.0317, -0.1251,  0.0805, -0.0531,  0.0498, -0.1079,  0.0603,  0.1198,\n",
            "        -0.0623, -0.0655,  0.0313,  0.0089, -0.0584,  0.0712,  0.0842,  0.0576,\n",
            "         0.0565, -0.0198,  0.0497, -0.0301,  0.1136, -0.0438, -0.0402, -0.0772,\n",
            "         0.0253, -0.1156,  0.1196,  0.0917, -0.0522, -0.0546,  0.0667, -0.0734,\n",
            "        -0.0149, -0.0018, -0.0646, -0.0889, -0.0828,  0.1017,  0.0488,  0.0285,\n",
            "         0.0573,  0.0048, -0.0083,  0.0996, -0.1086,  0.1019,  0.0482, -0.0093,\n",
            "         0.0328,  0.1203, -0.0807,  0.0474, -0.0440, -0.0119,  0.1111, -0.0224,\n",
            "         0.0803,  0.1076,  0.0046, -0.0985, -0.0981,  0.0015, -0.0578,  0.1348,\n",
            "         0.0884, -0.0183, -0.1198, -0.0186,  0.0605,  0.0128, -0.1234,  0.0316,\n",
            "         0.0437, -0.0801,  0.0028, -0.1283, -0.0720,  0.0693, -0.1250, -0.0992,\n",
            "        -0.1075, -0.0734, -0.0771, -0.1191, -0.0895, -0.1210,  0.0256, -0.0249,\n",
            "        -0.0164, -0.0283,  0.0485,  0.0849,  0.0540, -0.0607,  0.0745, -0.0776,\n",
            "        -0.0009, -0.0717,  0.0079, -0.0909, -0.0137, -0.0315, -0.0621, -0.0833,\n",
            "        -0.0412, -0.0495, -0.0445,  0.0680, -0.0262, -0.0836,  0.0867, -0.0464,\n",
            "         0.0796, -0.0668, -0.0681, -0.1173,  0.1084, -0.1064, -0.1168,  0.1243,\n",
            "         0.0086, -0.0623,  0.0243, -0.0245,  0.0470, -0.1028,  0.0139,  0.0212,\n",
            "         0.1105,  0.0628, -0.0560, -0.1066, -0.0122,  0.0276, -0.0184,  0.0347],\n",
            "       device='cuda:0')\n",
            "tensor([ 6.1167e-02, -1.0824e-01,  9.6720e-02, -4.5807e-02,  1.2519e-01,\n",
            "        -6.2854e-02, -1.0307e-01, -7.8655e-02,  2.1439e-02,  5.2927e-02,\n",
            "         8.8608e-02,  5.4800e-02,  3.0624e-03,  8.2150e-02, -7.0043e-02,\n",
            "        -2.1478e-02, -6.9544e-02, -1.0566e-01,  1.0690e-01, -1.5258e-02,\n",
            "         1.0025e-01,  1.3287e-01, -8.6520e-02, -1.5280e-02,  7.1034e-02,\n",
            "        -1.0709e-01,  6.9315e-02,  1.3176e-02,  7.3746e-02, -1.0875e-01,\n",
            "        -1.0279e-01,  3.3824e-02, -6.4687e-02,  2.5153e-02,  1.9983e-02,\n",
            "         5.7759e-03, -5.6167e-02,  1.6940e-02,  2.4781e-02, -1.2558e-01,\n",
            "        -1.2384e-02, -4.0321e-02, -4.2080e-02, -8.5308e-02,  6.5648e-02,\n",
            "        -7.8233e-02,  6.0846e-02,  9.2518e-02,  5.6816e-02,  3.2199e-02,\n",
            "        -1.3154e-01, -9.1553e-02, -5.7092e-02,  1.0603e-01,  8.1693e-03,\n",
            "        -5.4903e-02, -1.1906e-01, -1.2153e-01,  1.1050e-01,  1.0039e-01,\n",
            "         2.3720e-02,  1.1391e-01, -6.4259e-02,  1.2424e-01,  8.1185e-02,\n",
            "        -1.1521e-01,  1.2294e-01, -8.2921e-02, -9.2794e-02, -3.7105e-02,\n",
            "         8.9214e-02, -1.0906e-01, -9.0802e-04, -3.7954e-02, -8.3175e-03,\n",
            "        -8.7914e-02,  1.1331e-01,  9.7485e-03,  5.5706e-02,  3.3325e-03,\n",
            "        -1.1029e-01, -1.0387e-02, -5.4359e-02, -8.3095e-02,  1.2939e-01,\n",
            "         1.1297e-01, -4.2762e-02,  5.9790e-03, -2.7360e-02, -1.3366e-01,\n",
            "        -1.0381e-01, -4.5879e-03, -1.3831e-01,  4.0344e-02, -1.9078e-02,\n",
            "        -1.2008e-01, -2.7938e-02,  1.6896e-03,  7.0537e-02, -8.2838e-02,\n",
            "        -9.8381e-02,  8.3368e-02,  2.9581e-02, -5.8429e-02, -1.1389e-01,\n",
            "        -2.8621e-02,  6.6252e-02, -3.2658e-02,  9.1511e-02,  4.3263e-02,\n",
            "        -6.8486e-03, -2.1698e-02,  1.2020e-01, -9.2665e-02,  6.2467e-02,\n",
            "         9.3357e-02, -8.1548e-02,  4.6810e-02, -4.0204e-02,  4.1404e-02,\n",
            "        -3.5375e-02,  7.3049e-02, -6.9809e-02,  5.5807e-02, -7.9405e-02,\n",
            "        -1.0379e-01, -5.5891e-02,  1.6010e-02, -1.1022e-01, -9.9091e-02,\n",
            "         2.5812e-02,  8.7110e-04,  1.2946e-01, -3.1162e-02,  6.1471e-02,\n",
            "        -6.4544e-02,  5.6264e-02, -6.2528e-02, -8.5605e-02,  6.7596e-02,\n",
            "        -2.6906e-02,  4.3056e-03, -6.7079e-02, -9.9678e-02, -4.7528e-02,\n",
            "         9.2412e-03, -1.5147e-02,  8.1026e-02, -7.2091e-02, -2.5736e-02,\n",
            "        -1.0073e-01,  1.1078e-01,  9.7695e-02,  4.3350e-02, -5.9017e-02,\n",
            "        -5.3819e-02, -7.6788e-02, -5.8891e-02, -8.5769e-02,  8.5945e-02,\n",
            "        -6.8494e-02,  8.6345e-02,  4.2631e-02, -8.3623e-02, -1.0394e-02,\n",
            "        -5.7434e-02,  5.7035e-02, -8.6839e-02,  3.9305e-02, -7.6683e-02,\n",
            "         9.3631e-02, -8.4990e-02, -1.2649e-02, -7.5900e-02, -1.1229e-01,\n",
            "        -1.0158e-01, -8.1851e-02, -9.0312e-02, -2.3938e-02,  3.9992e-02,\n",
            "        -1.3482e-01,  3.6536e-02,  4.4180e-02,  5.4128e-03, -3.4870e-02,\n",
            "         7.3559e-02,  1.0593e-01,  1.4739e-02, -3.9371e-02,  9.6094e-02,\n",
            "         2.6795e-02, -8.0736e-02,  7.7914e-02,  4.0662e-03,  1.2847e-01,\n",
            "        -8.6338e-02, -9.1428e-05, -1.1288e-01,  9.5827e-02, -5.7587e-02,\n",
            "         9.6648e-02,  2.4168e-02, -5.7219e-02,  1.1008e-01,  3.3069e-02,\n",
            "        -3.0008e-02,  1.0305e-01,  4.9029e-02, -1.3078e-02,  1.0482e-01,\n",
            "        -4.8941e-02, -8.1670e-02,  1.1376e-02,  6.3210e-02, -8.9039e-02,\n",
            "        -5.1675e-02, -6.2443e-02,  1.0230e-01, -5.2997e-02,  4.5918e-02,\n",
            "        -4.7856e-02,  1.0413e-01, -4.5746e-02, -7.1071e-02, -9.3911e-03,\n",
            "         5.4293e-02, -1.0033e-01, -3.8300e-02,  4.0250e-02,  9.8220e-02,\n",
            "         7.3934e-02, -3.7979e-02, -9.8665e-02,  1.2931e-01,  9.0410e-02,\n",
            "         2.5254e-02,  7.3589e-02,  3.3348e-02,  2.1178e-02, -6.1395e-02,\n",
            "         1.1778e-02, -1.1943e-02,  1.0473e-02,  5.6360e-02, -6.0393e-02,\n",
            "         1.3261e-02,  3.6745e-02,  6.0387e-02,  4.5226e-02, -1.3605e-01,\n",
            "        -1.0178e-01,  9.9193e-02,  1.2630e-01, -8.6651e-02, -6.5823e-02,\n",
            "         8.5923e-02], device='cuda:0')\n",
            "tensor([[-2.0882e-02, -4.3410e-02,  7.7251e-02,  6.4778e-02,  3.2060e-02,\n",
            "          1.2014e-01, -7.2752e-02,  1.8920e-02,  8.9284e-02,  9.6497e-02,\n",
            "          9.7402e-02, -2.1957e-02,  1.2510e-01, -7.9097e-02, -1.6775e-02,\n",
            "         -4.6854e-03, -8.9196e-02, -9.8209e-02,  4.7076e-02,  1.2257e-01,\n",
            "         -1.2550e-01, -1.0602e-01, -4.0610e-02, -1.2055e-01,  5.1671e-02,\n",
            "         -2.1010e-02, -1.1161e-01, -8.0889e-02,  7.6707e-02, -2.5016e-02,\n",
            "         -3.0555e-02, -1.0538e-01, -1.0426e-01,  1.0342e-01,  1.0444e-01,\n",
            "          1.0807e-02,  1.0712e-01,  4.7160e-02,  7.0664e-02,  7.2020e-02,\n",
            "         -6.8133e-02,  5.7144e-02,  1.1230e-01, -9.9358e-02,  7.3684e-02,\n",
            "          4.5033e-02,  1.0406e-01, -4.0340e-02, -5.7418e-02,  1.2270e-01,\n",
            "         -4.7200e-02, -6.6270e-02, -8.7673e-02, -3.0102e-02,  5.9268e-03,\n",
            "          3.3888e-02, -9.5499e-05, -8.0123e-02, -1.0177e-01,  5.8222e-02,\n",
            "          6.4766e-02,  9.4473e-02, -7.1947e-02, -4.0016e-02]], device='cuda:0')\n",
            "tensor([-0.1030], device='cuda:0')\n"
          ],
          "name": "stdout"
        }
      ]
    },
    {
      "cell_type": "markdown",
      "metadata": {
        "id": "PY0wF6e46-JE"
      },
      "source": [
        "# Part 4: Model performance/ Model Evaluation\n",
        "\n",
        "With our model fit we can now make predictions on both our training and testing sets."
      ]
    },
    {
      "cell_type": "code",
      "metadata": {
        "id": "6dygBlig6_XD",
        "colab": {
          "base_uri": "https://localhost:8080/",
          "height": 282
        },
        "outputId": "5816c15f-62d0-48f3-894e-cb4a840e2d13"
      },
      "source": [
        "plt.plot(history)\n",
        "# dplt.plot(history.history['val_loss'])"
      ],
      "execution_count": null,
      "outputs": [
        {
          "output_type": "execute_result",
          "data": {
            "text/plain": [
              "[<matplotlib.lines.Line2D at 0x7f8172846cd0>]"
            ]
          },
          "metadata": {
            "tags": []
          },
          "execution_count": 36
        },
        {
          "output_type": "display_data",
          "data": {
            "image/png": "[encoded data removed]",
            "text/plain": [
              "<Figure size 432x288 with 1 Axes>"
            ]
          },
          "metadata": {
            "tags": [],
            "needs_background": "light"
          }
        }
      ]
    },
    {
      "cell_type": "code",
      "metadata": {
        "id": "ScaBHhTv7Jih",
        "colab": {
          "base_uri": "https://localhost:8080/"
        },
        "outputId": "e3e097cc-cf15-4581-d27d-85bacf3c1f34"
      },
      "source": [
        "X_test[0]"
      ],
      "execution_count": null,
      "outputs": [
        {
          "output_type": "execute_result",
          "data": {
            "text/plain": [
              "array([[0.70143014, 0.68712871, 0.68272827, 0.68184818, 0.6860286 ,\n",
              "        0.71023102, 0.70737074]])"
            ]
          },
          "metadata": {
            "tags": []
          },
          "execution_count": 37
        }
      ]
    },
    {
      "cell_type": "code",
      "metadata": {
        "id": "hyICDKXa7Vbe"
      },
      "source": [
        "# X_train_X_test = np.concatenate((X_train, X_test), axis=0)\n",
        "# hidden_state = None\n",
        "\n",
        "\n",
        "rnn.eval()\n",
        "\n",
        "# test_inputs = torch.tensor(X_test).float().cuda()\n",
        "\n",
        "test_predict, _ = rnn(X_test_cuda, hidden_state)\n",
        "test_predict_cpu = test_predict.cpu().detach().numpy()\n"
      ],
      "execution_count": null,
      "outputs": []
    },
    {
      "cell_type": "code",
      "metadata": {
        "id": "FwD_e6VO-cIa",
        "colab": {
          "base_uri": "https://localhost:8080/"
        },
        "outputId": "81112e35-03e7-49f3-b6ec-78432cdde5e3"
      },
      "source": [
        "test_predict_cpu.shape"
      ],
      "execution_count": null,
      "outputs": [
        {
          "output_type": "execute_result",
          "data": {
            "text/plain": [
              "(251, 1, 1)"
            ]
          },
          "metadata": {
            "tags": []
          },
          "execution_count": 39
        }
      ]
    },
    {
      "cell_type": "code",
      "metadata": {
        "id": "c-__h1sU7kW6",
        "colab": {
          "base_uri": "https://localhost:8080/",
          "height": 283
        },
        "outputId": "9198e8a4-db0d-4b5d-e35a-df7c3c58b0b6"
      },
      "source": [
        "plt.plot(sc.inverse_transform(y_test.reshape(-1,1)))\n",
        "plt.plot(sc.inverse_transform(test_predict_cpu.reshape(-1,1)))"
      ],
      "execution_count": null,
      "outputs": [
        {
          "output_type": "execute_result",
          "data": {
            "text/plain": [
              "[<matplotlib.lines.Line2D at 0x7f816759ab10>]"
            ]
          },
          "metadata": {
            "tags": []
          },
          "execution_count": 41
        },
        {
          "output_type": "display_data",
          "data": {
            "image/png": "[encoded data removed]",
            "text/plain": [
              "<Figure size 432x288 with 1 Axes>"
            ]
          },
          "metadata": {
            "tags": [],
            "needs_background": "light"
          }
        }
      ]
    },
    {
      "cell_type": "code",
      "metadata": {
        "id": "LnMGQ5Sa8vMs",
        "colab": {
          "base_uri": "https://localhost:8080/",
          "height": 280
        },
        "outputId": "821a7027-bcaf-448a-ebd4-ae0f5a6cafad"
      },
      "source": [
        "# plot original data\n",
        "\n",
        "plt.plot(sc.inverse_transform(y.reshape(-1,1)), color='k')\n",
        "\n",
        "# train_inputs = torch.tensor(X_train).float().cuda()\n",
        "train_pred, hidden_state = rnn(inputs_cuda, None)\n",
        "train_pred_cpu = train_pred.cpu().detach().numpy()\n",
        "\n",
        "\n",
        "# use hidden state from previous training data\n",
        "test_predict, _ = rnn(X_test_cuda, hidden_state)\n",
        "test_predict_cpu = test_predict.cpu().detach().numpy()\n",
        "\n",
        "\n",
        "\n",
        "# plt.plot(scl.inverse_transform(y_test.reshape(-1,1)))\n",
        "split_pt = int(X.shape[0] * 0.80) + 7 #window_size\n",
        "plt.plot(np.arange(7, split_pt, 1), sc.inverse_transform(train_pred_cpu.reshape(-1,1)), color='b')\n",
        "plt.plot(np.arange(split_pt, split_pt +len(test_predict_cpu), 1), sc.inverse_transform(test_predict_cpu.reshape(-1,1)), color='r')\n",
        "\n",
        "\n",
        "# pretty up graph\n",
        "\n",
        "plt.xlabel('day')\n",
        "plt.ylabel('price of MMM stock')\n",
        "plt.legend(['original series', 'training fit', 'testing fit'], loc='center left', bbox_to_anchor=(1, 0.5))\n",
        "plt.show()\n"
      ],
      "execution_count": null,
      "outputs": [
        {
          "output_type": "display_data",
          "data": {
            "image/png": "[encoded data removed]",
            "text/plain": [
              "<Figure size 432x288 with 1 Axes>"
            ]
          },
          "metadata": {
            "tags": [],
            "needs_background": "light"
          }
        }
      ]
    },
    {
      "cell_type": "code",
      "metadata": {
        "id": "u4J-TrjE2bTy"
      },
      "source": [
        ""
      ],
      "execution_count": null,
      "outputs": []
    }
  ]
}